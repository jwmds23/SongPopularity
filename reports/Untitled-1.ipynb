{
 "cells": [
  {
   "cell_type": "code",
   "execution_count": 25,
   "metadata": {},
   "outputs": [],
   "source": [
    "from bs4 import BeautifulSoup as bs\n",
    "import requests\n",
    "import pandas as pd"
   ]
  },
  {
   "cell_type": "code",
   "execution_count": 26,
   "metadata": {},
   "outputs": [],
   "source": [
    "client_id = 'e07829826a52472bb6cd2fe4ef80515e'\n",
    "client_secret = '34a0c73b34864d398ac393c73ac03a9e'\n",
    "\n",
    "auth_response = requests.post('https://accounts.spotify.com/api/token', {\n",
    "    'grant_type': 'client_credentials',\n",
    "    'client_id': client_id,\n",
    "    'client_secret': client_secret,\n",
    "})\n",
    "\n",
    "# Convert the response to JSON\n",
    "auth_response_data = auth_response.json()\n",
    "\n",
    "# Save the access token\n",
    "access_token = auth_response_data['access_token']"
   ]
  },
  {
   "cell_type": "code",
   "execution_count": 27,
   "metadata": {},
   "outputs": [],
   "source": [
    "track_id = '7qEHsqek33rTcFNT9PFqLf'  # Replace with the actual track ID\n",
    "headers = {\n",
    "    'Authorization': f'Bearer {access_token}',\n",
    "}\n",
    "\n",
    "response = requests.get(f'https://api.spotify.com/v1/tracks/{track_id}', headers=headers)\n",
    "\n",
    "track_details = response.json()"
   ]
  },
  {
   "cell_type": "code",
   "execution_count": 28,
   "metadata": {},
   "outputs": [
    {
     "data": {
      "text/plain": [
       "'https://open.spotify.com/track/7qEHsqek33rTcFNT9PFqLf'"
      ]
     },
     "execution_count": 28,
     "metadata": {},
     "output_type": "execute_result"
    }
   ],
   "source": [
    "track_details['external_urls']['spotify']"
   ]
  },
  {
   "cell_type": "code",
   "execution_count": 8,
   "metadata": {},
   "outputs": [
    {
     "data": {
      "text/html": [
       "<div>\n",
       "<style scoped>\n",
       "    .dataframe tbody tr th:only-of-type {\n",
       "        vertical-align: middle;\n",
       "    }\n",
       "\n",
       "    .dataframe tbody tr th {\n",
       "        vertical-align: top;\n",
       "    }\n",
       "\n",
       "    .dataframe thead th {\n",
       "        text-align: right;\n",
       "    }\n",
       "</style>\n",
       "<table border=\"1\" class=\"dataframe\">\n",
       "  <thead>\n",
       "    <tr style=\"text-align: right;\">\n",
       "      <th></th>\n",
       "      <th>track_name</th>\n",
       "      <th>track_popularity</th>\n",
       "      <th>track_artist</th>\n",
       "      <th>track_id</th>\n",
       "    </tr>\n",
       "  </thead>\n",
       "  <tbody>\n",
       "    <tr>\n",
       "      <th>19435</th>\n",
       "      <td>The Box</td>\n",
       "      <td>98.0</td>\n",
       "      <td>Roddy Ricch</td>\n",
       "      <td>0nbXyq5TXYPCO7pr3N8S4I</td>\n",
       "    </tr>\n",
       "    <tr>\n",
       "      <th>20724</th>\n",
       "      <td>Tusa</td>\n",
       "      <td>98.0</td>\n",
       "      <td>KAROL G</td>\n",
       "      <td>7k4t7uLgtOxPwTpFmtJNTY</td>\n",
       "    </tr>\n",
       "    <tr>\n",
       "      <th>5102</th>\n",
       "      <td>Don't Start Now</td>\n",
       "      <td>97.0</td>\n",
       "      <td>Dua Lipa</td>\n",
       "      <td>6WrI0LAC5M1Rw2MnX2ZvEg</td>\n",
       "    </tr>\n",
       "    <tr>\n",
       "      <th>23011</th>\n",
       "      <td>everything i wanted</td>\n",
       "      <td>97.0</td>\n",
       "      <td>Billie Eilish</td>\n",
       "      <td>3ZCTVFBt2Brf31RLEnCkWJ</td>\n",
       "    </tr>\n",
       "    <tr>\n",
       "      <th>15773</th>\n",
       "      <td>RITMO (Bad Boys For Life)</td>\n",
       "      <td>96.0</td>\n",
       "      <td>The Black Eyed Peas</td>\n",
       "      <td>6cy3ki60hLwimwIje7tALf</td>\n",
       "    </tr>\n",
       "    <tr>\n",
       "      <th>22895</th>\n",
       "      <td>Yummy</td>\n",
       "      <td>95.0</td>\n",
       "      <td>Justin Bieber</td>\n",
       "      <td>41L3O37CECZt3N7ziG2z7l</td>\n",
       "    </tr>\n",
       "    <tr>\n",
       "      <th>22947</th>\n",
       "      <td>bad guy</td>\n",
       "      <td>95.0</td>\n",
       "      <td>Billie Eilish</td>\n",
       "      <td>2Fxmhks0bxGSBdJ92vM42m</td>\n",
       "    </tr>\n",
       "    <tr>\n",
       "      <th>7782</th>\n",
       "      <td>HIGHEST IN THE ROOM</td>\n",
       "      <td>94.0</td>\n",
       "      <td>Travis Scott</td>\n",
       "      <td>3eekarcy7kvN4yt5ZFzltW</td>\n",
       "    </tr>\n",
       "    <tr>\n",
       "      <th>13203</th>\n",
       "      <td>My Oh My (feat. DaBaby)</td>\n",
       "      <td>94.0</td>\n",
       "      <td>Camila Cabello</td>\n",
       "      <td>3yOlyBJuViE2YSGn3nVE1K</td>\n",
       "    </tr>\n",
       "    <tr>\n",
       "      <th>17909</th>\n",
       "      <td>Someone You Loved</td>\n",
       "      <td>94.0</td>\n",
       "      <td>Lewis Capaldi</td>\n",
       "      <td>7qEHsqek33rTcFNT9PFqLf</td>\n",
       "    </tr>\n",
       "  </tbody>\n",
       "</table>\n",
       "</div>"
      ],
      "text/plain": [
       "                      track_name  track_popularity         track_artist  \\\n",
       "19435                    The Box              98.0          Roddy Ricch   \n",
       "20724                       Tusa              98.0              KAROL G   \n",
       "5102             Don't Start Now              97.0             Dua Lipa   \n",
       "23011        everything i wanted              97.0        Billie Eilish   \n",
       "15773  RITMO (Bad Boys For Life)              96.0  The Black Eyed Peas   \n",
       "22895                      Yummy              95.0        Justin Bieber   \n",
       "22947                    bad guy              95.0        Billie Eilish   \n",
       "7782         HIGHEST IN THE ROOM              94.0         Travis Scott   \n",
       "13203    My Oh My (feat. DaBaby)              94.0       Camila Cabello   \n",
       "17909          Someone You Loved              94.0        Lewis Capaldi   \n",
       "\n",
       "                     track_id  \n",
       "19435  0nbXyq5TXYPCO7pr3N8S4I  \n",
       "20724  7k4t7uLgtOxPwTpFmtJNTY  \n",
       "5102   6WrI0LAC5M1Rw2MnX2ZvEg  \n",
       "23011  3ZCTVFBt2Brf31RLEnCkWJ  \n",
       "15773  6cy3ki60hLwimwIje7tALf  \n",
       "22895  41L3O37CECZt3N7ziG2z7l  \n",
       "22947  2Fxmhks0bxGSBdJ92vM42m  \n",
       "7782   3eekarcy7kvN4yt5ZFzltW  \n",
       "13203  3yOlyBJuViE2YSGn3nVE1K  \n",
       "17909  7qEHsqek33rTcFNT9PFqLf  "
      ]
     },
     "execution_count": 8,
     "metadata": {},
     "output_type": "execute_result"
    }
   ],
   "source": [
    "df = pd.read_csv('../data/processed/spotify_songs_processed.csv', index_col=0)\n",
    "df_new=df[['track_id','track_name','track_artist','track_popularity']].drop_duplicates()\n",
    "popularity_by_songs = df_new.groupby('track_name').agg({\n",
    "    'track_popularity': 'mean',\n",
    "    'track_artist': 'max',\n",
    "    'track_id': 'max'\n",
    "}).reset_index()\n",
    "top10_songs = popularity_by_songs.nlargest(10,\"track_popularity\")\n",
    "top10_songs"
   ]
  }
 ],
 "metadata": {
  "kernelspec": {
   "display_name": "base",
   "language": "python",
   "name": "python3"
  },
  "language_info": {
   "codemirror_mode": {
    "name": "ipython",
    "version": 3
   },
   "file_extension": ".py",
   "mimetype": "text/x-python",
   "name": "python",
   "nbconvert_exporter": "python",
   "pygments_lexer": "ipython3",
   "version": "3.11.5"
  }
 },
 "nbformat": 4,
 "nbformat_minor": 2
}
